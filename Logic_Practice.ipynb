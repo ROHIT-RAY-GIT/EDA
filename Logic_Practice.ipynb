{
 "cells": [
  {
   "cell_type": "markdown",
   "metadata": {},
   "source": [
    "### 01/09/2024"
   ]
  },
  {
   "cell_type": "markdown",
   "metadata": {},
   "source": [
    "#### There is a list of numbers. Sort the numbers in ascending order only using if-else and for loop."
   ]
  },
  {
   "cell_type": "code",
   "execution_count": 1,
   "metadata": {},
   "outputs": [
    {
     "name": "stdout",
     "output_type": "stream",
     "text": [
      "[10, 11, 12, 23, 34, 44, 56, 76, 90]\n"
     ]
    }
   ],
   "source": [
    "num = [23, 12, 11, 56, 76, 34, 44, 90, 10]\n",
    "\n",
    "for i in range(len(num)):\n",
    "    for j in range(i+1, len(num)):\n",
    "        if num[i] > num[j]:\n",
    "            num[i], num[j] = num[j], num[i]\n",
    "            \n",
    "            \n",
    "print(num)"
   ]
  },
  {
   "cell_type": "code",
   "execution_count": 18,
   "metadata": {},
   "outputs": [
    {
     "name": "stdout",
     "output_type": "stream",
     "text": [
      "[990, 908, 787, 664, 554, 455, 333, 283, 223, 112, 111, 54, 34]\n"
     ]
    }
   ],
   "source": [
    "# sort the numbers in descending order\n",
    "\n",
    "num = [34, 54, 554, 664, 223, 990, 787, 112, 333, 908, 111, 455, 283]\n",
    "\n",
    "for i in range(len(num)):\n",
    "    for j in range(i+1, len(num)):\n",
    "        if num[i] < num[j]:\n",
    "            num[i], num[j] = num[j], num[i]\n",
    "            \n",
    "print(num)\n",
    "# print(num[1])"
   ]
  },
  {
   "cell_type": "markdown",
   "metadata": {},
   "source": [
    "#### Return the numbers in reverse order"
   ]
  },
  {
   "cell_type": "code",
   "execution_count": 16,
   "metadata": {},
   "outputs": [
    {
     "name": "stdout",
     "output_type": "stream",
     "text": [
      "[90, 75, 99, 21, 56, 33, 23]\n"
     ]
    }
   ],
   "source": [
    "# First Approach using for loop\n",
    "\n",
    "# num = [2, 3, 5, 8, 7, 10, 11]\n",
    "num = [23, 33, 56, 21, 99, 75, 90]\n",
    "\n",
    "def reverse(num):\n",
    "    l = 0\n",
    "    r = len(num) - 1\n",
    "    \n",
    "    for i in range(len(num) // 2):\n",
    "        temp = num[l]\n",
    "        num[l] = num[r]\n",
    "        num[r] = temp\n",
    "        \n",
    "        l += 1\n",
    "        r -= 1\n",
    "        \n",
    "    return num\n",
    "        \n",
    "        \n",
    "print(reverse(num))\n",
    "        "
   ]
  },
  {
   "cell_type": "code",
   "execution_count": 17,
   "metadata": {},
   "outputs": [
    {
     "name": "stdout",
     "output_type": "stream",
     "text": [
      "[11, 10, 7, 8, 5, 3, 2]\n"
     ]
    }
   ],
   "source": [
    "# 2nd Approach using while loop\n",
    "\n",
    "# arr = [23, 33, 56, 21, 99, 75, 90]\n",
    "arr = [2, 3, 5, 8, 7, 10, 11]\n",
    "\n",
    "def reverse(arr):\n",
    "    left = 0\n",
    "    right = len(arr) - 1\n",
    "    \n",
    "    while left < right:\n",
    "        temp = arr[left]\n",
    "        arr[left] = arr[right]\n",
    "        arr[right] = temp\n",
    "        \n",
    "        left += 1\n",
    "        right -= 1\n",
    "        \n",
    "    return arr\n",
    "\n",
    "print(reverse(arr))\n"
   ]
  },
  {
   "cell_type": "markdown",
   "metadata": {},
   "source": [
    "### Return the 2nd highest number in a list"
   ]
  },
  {
   "cell_type": "code",
   "execution_count": 29,
   "metadata": {},
   "outputs": [
    {
     "name": "stdout",
     "output_type": "stream",
     "text": [
      "[998, 677, 645, 444, 442, 344, 119] \n",
      "\n",
      "The 2nd Highest Number is:  677\n",
      "The 2nd Smallest Number is:  119\n"
     ]
    }
   ],
   "source": [
    "arr = [677, 444, 344, 998, 442, 119, 645]\n",
    "\n",
    "def sort(arr):\n",
    "    \n",
    "    for i in range(len(arr)):\n",
    "        for j in range(i+1, len(arr)):\n",
    "            if arr[i] < arr[j]:\n",
    "                arr[i], arr[j] = arr[j], arr[i]\n",
    "            \n",
    "    return arr\n",
    "\n",
    "print(sort(arr),'\\n')\n",
    "print(\"The 2nd Highest Number is: \", sort(arr)[1])\n",
    "print(\"The 2nd Smallest Number is: \", sort(arr)[-1])"
   ]
  },
  {
   "cell_type": "code",
   "execution_count": 11,
   "metadata": {},
   "outputs": [],
   "source": [
    "# l1 = [23, 44, 66, 12, 10, 44, 76, 333, 263, 484, 902, 53, 66, 86, 45, 46, 26]\n",
    "# sort(l1)"
   ]
  },
  {
   "cell_type": "code",
   "execution_count": 31,
   "metadata": {},
   "outputs": [
    {
     "name": "stdout",
     "output_type": "stream",
     "text": [
      "[26, 46, 45, 86, 66, 53, 902, 484, 263, 333, 76, 44, 10, 12, 66, 44, 23]\n"
     ]
    }
   ],
   "source": [
    "l1 = [23, 44, 66, 12, 10, 44, 76, 333, 263, 484, 902, 53, 66, 86, 45, 46, 26]\n",
    "\n",
    "def reverse_order(l1):\n",
    "    left = 0\n",
    "    right = len(l1) - 1\n",
    "    \n",
    "    for i in range(len(l1) // 2):\n",
    "        temp = l1[left]\n",
    "        l1[left] = l1[right]\n",
    "        l1[right] = temp\n",
    "        left += 1\n",
    "        right -= 1\n",
    "    \n",
    "    return l1\n",
    "\n",
    "print(reverse_order(l1))"
   ]
  },
  {
   "cell_type": "code",
   "execution_count": 32,
   "metadata": {},
   "outputs": [
    {
     "name": "stdout",
     "output_type": "stream",
     "text": [
      "[23, 44, 66, 12, 10, 44, 76, 333, 263, 484, 902, 53, 66, 86, 45, 46, 26]\n"
     ]
    }
   ],
   "source": [
    "# [26, 46, 45, 86, 66, 53, 902, 484, 263, 333, 76, 44, 10, 12, 66, 44, 23] = l1\n",
    "\n",
    "def reversed_order(l1):\n",
    "    \n",
    "    left = 0\n",
    "    right = len(l1) - 1\n",
    "    \n",
    "    while left < right:\n",
    "        temp = l1[left]\n",
    "        l1[left] = l1[right]\n",
    "        l1[right] = temp\n",
    "        \n",
    "        left += 1\n",
    "        right -= 1\n",
    "        \n",
    "    return l1\n",
    "\n",
    "print(reversed_order(l1))"
   ]
  },
  {
   "cell_type": "code",
   "execution_count": 10,
   "metadata": {},
   "outputs": [
    {
     "name": "stdout",
     "output_type": "stream",
     "text": [
      "[65, 64, 22, 87, 11] \n",
      "\n",
      "The Sorted Array is:  [11, 22, 64, 65, 87]\n",
      "The 3rd Highest Number is:  64\n"
     ]
    }
   ],
   "source": [
    "arr1 = []\n",
    "# n = int(input(\"Please Enter The Number of Elements: \"))\n",
    "\n",
    "for i in range(5):\n",
    "    ele = int(input(\"Enter The 5 Elements: \"))\n",
    "    arr1.append(ele)\n",
    "    \n",
    "print(arr1, '\\n')\n",
    "\n",
    "\n",
    "def sorting(arr1):\n",
    "    for i in range(len(arr1)):\n",
    "        for j in range(i+1, len(arr1)):\n",
    "            if arr1[i] > arr1[j]:\n",
    "                arr1[i], arr1[j] = arr1[j], arr1[i]\n",
    "                \n",
    "    return arr1\n",
    "\n",
    "print(\"The Sorted Array is: \", sorting(arr1))\n",
    "print(\"The 3rd Highest Number is: \", sorting(arr1)[-3])"
   ]
  },
  {
   "cell_type": "markdown",
   "metadata": {},
   "source": [
    "### Reversing a String Value"
   ]
  },
  {
   "cell_type": "code",
   "execution_count": 19,
   "metadata": {},
   "outputs": [
    {
     "name": "stdout",
     "output_type": "stream",
     "text": [
      "dlroW olleH\n"
     ]
    }
   ],
   "source": [
    "x = 'Hello World'\n",
    "\n",
    "def re_order(x):\n",
    "    x_reversed = ''\n",
    "    \n",
    "    for i in range(len(x)):\n",
    "        x_reversed = x[i] + x_reversed\n",
    "        \n",
    "    return x_reversed\n",
    "\n",
    "print(re_order(x))"
   ]
  },
  {
   "cell_type": "markdown",
   "metadata": {},
   "source": [
    "### Checking for palindrome (Not Recommended)"
   ]
  },
  {
   "cell_type": "code",
   "execution_count": 32,
   "metadata": {},
   "outputs": [
    {
     "name": "stdout",
     "output_type": "stream",
     "text": [
      "ababa\n",
      "ababa\n",
      "\n",
      "It is a Palindrome\n",
      "ababa\n"
     ]
    }
   ],
   "source": [
    "s = 'Ababa'\n",
    "s = s.lower()\n",
    "\n",
    "def r_order(s):\n",
    "    reverse_s = ''\n",
    "    \n",
    "    for i in range(len(s)):\n",
    "        reverse_s = s[i] + reverse_s\n",
    "        \n",
    "    return reverse_s\n",
    "\n",
    "s_reversed = r_order(s)\n",
    "\n",
    "print(s)\n",
    "print(s_reversed)\n",
    "\n",
    "print()\n",
    "\n",
    "def is_palindrome(s):\n",
    "    if s_reversed == s:\n",
    "        print('It is a Palindrome')\n",
    "    else:\n",
    "        print('Not a palindrome')\n",
    "        \n",
    "    return s\n",
    "\n",
    "print(is_palindrome(s))"
   ]
  },
  {
   "cell_type": "code",
   "execution_count": 1,
   "metadata": {},
   "outputs": [
    {
     "name": "stdout",
     "output_type": "stream",
     "text": [
      "[9034, 6788, 5555, 4500, 4400, 3499, 2303, 1293, 1100]\n"
     ]
    }
   ],
   "source": [
    "arr = [4400, 4500, 2303, 1293, 1100, 3499, 9034, 6788, 5555]\n",
    "\n",
    "def sorted_arr(arr):\n",
    "    for i in range(len(arr)):\n",
    "        for j in range(i+1, len(arr)):\n",
    "            if arr[i] < arr[j]:\n",
    "                arr[i], arr[j] = arr[j], arr[i]\n",
    "                \n",
    "    return arr\n",
    "\n",
    "print(sorted_arr(arr))\n",
    "            \n",
    "            "
   ]
  },
  {
   "cell_type": "markdown",
   "metadata": {},
   "source": [
    "### Find the factorial of a number"
   ]
  },
  {
   "cell_type": "code",
   "execution_count": 4,
   "metadata": {},
   "outputs": [
    {
     "name": "stdout",
     "output_type": "stream",
     "text": [
      "120\n"
     ]
    }
   ],
   "source": [
    "n = 5\n",
    "\n",
    "def factorial(n):\n",
    "    fact = 1    # initialize a variable and assign 1\n",
    "    \n",
    "# While loop for calculating the factorial\n",
    "    while n > 0:\n",
    "        fact *= n\n",
    "        n -= 1\n",
    "        \n",
    "    return fact   \n",
    "        \n",
    "print(factorial(n))"
   ]
  },
  {
   "cell_type": "code",
   "execution_count": 13,
   "metadata": {},
   "outputs": [
    {
     "name": "stdout",
     "output_type": "stream",
     "text": [
      "5040\n"
     ]
    }
   ],
   "source": [
    "num = 7\n",
    "\n",
    "def is_fact(num):\n",
    "    fact = 1\n",
    "    \n",
    "    while num > 0:\n",
    "        fact = fact * num\n",
    "        num -= 1 \n",
    "        \n",
    "    return fact\n",
    "\n",
    "print(is_fact(num))"
   ]
  },
  {
   "cell_type": "code",
   "execution_count": 18,
   "metadata": {},
   "outputs": [
    {
     "name": "stdout",
     "output_type": "stream",
     "text": [
      "3628800\n"
     ]
    }
   ],
   "source": [
    "# Using for loop\n",
    "\n",
    "num = 10\n",
    "\n",
    "def fact(num):    \n",
    "    f = 1    \n",
    "    for i in range(1, num+1):\n",
    "        f = f * i\n",
    "    return f\n",
    "\n",
    "print(fact(num))"
   ]
  },
  {
   "cell_type": "markdown",
   "metadata": {},
   "source": [
    "#### Sum of the digits in a number"
   ]
  },
  {
   "cell_type": "code",
   "execution_count": 25,
   "metadata": {},
   "outputs": [
    {
     "name": "stdout",
     "output_type": "stream",
     "text": [
      "10\n"
     ]
    }
   ],
   "source": [
    "n = 1234\n",
    "\n",
    "def sum(n):\n",
    "    \n",
    "    s = 0\n",
    "    \n",
    "    while n > 0:\n",
    "        s = s + (n % 10)   # % is used for extracting the last digit of the number\n",
    "        n = n // 10        # // is used to remove the last digit of the number\n",
    "        \n",
    "    return s\n",
    "\n",
    "print(sum(n))\n",
    "    \n",
    "    "
   ]
  },
  {
   "cell_type": "code",
   "execution_count": 28,
   "metadata": {},
   "outputs": [
    {
     "name": "stdout",
     "output_type": "stream",
     "text": [
      "5040\n"
     ]
    }
   ],
   "source": [
    "n = 7\n",
    "f = 1\n",
    "\n",
    "for i in range(1, n+1):\n",
    "    f = f * i\n",
    "print(f)"
   ]
  },
  {
   "cell_type": "code",
   "execution_count": 29,
   "metadata": {},
   "outputs": [
    {
     "data": {
      "text/plain": [
       "5040"
      ]
     },
     "execution_count": 29,
     "metadata": {},
     "output_type": "execute_result"
    }
   ],
   "source": [
    "n = 7\n",
    "\n",
    "def fact1(n):\n",
    "    f = 1\n",
    "    \n",
    "    while n > 0:\n",
    "        f = f * n\n",
    "        n -= 1\n",
    "        \n",
    "    return f\n",
    "\n",
    "fact1(n)"
   ]
  },
  {
   "cell_type": "code",
   "execution_count": 36,
   "metadata": {},
   "outputs": [
    {
     "name": "stdout",
     "output_type": "stream",
     "text": [
      "[445, 748, 12, 33, 34, 78]\n"
     ]
    }
   ],
   "source": [
    "arr = [78, 34, 33, 12, 748, 445]\n",
    "\n",
    "def reverse(arr):\n",
    "    left = 0\n",
    "    right = len(arr) - 1\n",
    "    \n",
    "    while left < right:\n",
    "        temp = arr[left]\n",
    "        arr[left] = arr[right]\n",
    "        arr[right] = temp\n",
    "            \n",
    "        left += 1\n",
    "        right -= 1\n",
    "                \n",
    "    return arr\n",
    "\n",
    "print(reverse(arr))\n",
    "                "
   ]
  },
  {
   "cell_type": "code",
   "execution_count": 37,
   "metadata": {},
   "outputs": [
    {
     "name": "stdout",
     "output_type": "stream",
     "text": [
      "[78, 34, 33, 12, 748, 445]\n"
     ]
    }
   ],
   "source": [
    "li = [445, 748, 12, 33, 34, 78]\n",
    "\n",
    "def reverse_order(li):\n",
    "    \n",
    "    left = 0\n",
    "    right = len(li) - 1\n",
    "    \n",
    "    for i in range(len(li) // 2):\n",
    "        \n",
    "        temp = li[left] \n",
    "        li[left] = li[right]\n",
    "        li[right] = temp\n",
    "        \n",
    "        left += 1\n",
    "        right -= 1\n",
    "        \n",
    "    return li\n",
    "\n",
    "print(reverse_order(li))\n",
    "    \n",
    "    "
   ]
  },
  {
   "cell_type": "code",
   "execution_count": 39,
   "metadata": {},
   "outputs": [
    {
     "name": "stdout",
     "output_type": "stream",
     "text": [
      "gnirts\n"
     ]
    }
   ],
   "source": [
    "s = 'string'\n",
    "\n",
    "def str_reverse(s):\n",
    "    \n",
    "    rev_str = ''\n",
    "    \n",
    "    for i in range(len(s)):\n",
    "        rev_str = s[i] + rev_str\n",
    "        \n",
    "    return rev_str\n",
    "\n",
    "print(str_reverse(s))"
   ]
  },
  {
   "cell_type": "code",
   "execution_count": 41,
   "metadata": {},
   "outputs": [
    {
     "name": "stdout",
     "output_type": "stream",
     "text": [
      "120\n"
     ]
    }
   ],
   "source": [
    "num = 5\n",
    "\n",
    "def is_factorial(num):\n",
    "    fact = 1\n",
    "    \n",
    "    for i in range(1, num+1):\n",
    "        fact = fact * i\n",
    "        \n",
    "    return fact\n",
    "\n",
    "print(is_factorial(num))"
   ]
  },
  {
   "cell_type": "code",
   "execution_count": 43,
   "metadata": {},
   "outputs": [
    {
     "name": "stdout",
     "output_type": "stream",
     "text": [
      "5040\n"
     ]
    }
   ],
   "source": [
    "num = 7\n",
    "fact = 1\n",
    "\n",
    "while num > 0:\n",
    "    fact = fact * num\n",
    "    num -= 1\n",
    "    \n",
    "print(fact)"
   ]
  },
  {
   "cell_type": "code",
   "execution_count": 45,
   "metadata": {},
   "outputs": [
    {
     "name": "stdout",
     "output_type": "stream",
     "text": [
      "[77, 34, 6, 5, 34]\n"
     ]
    }
   ],
   "source": [
    "arr = [34, 5, 6, 34, 77]\n",
    "\n",
    "left = 0\n",
    "right = len(arr) - 1\n",
    "\n",
    "for i in range(len(arr) // 2):\n",
    "    temp = arr[left]\n",
    "    arr[left] = arr[right]\n",
    "    arr[right] = temp\n",
    "    \n",
    "    left += 1\n",
    "    right -= 1\n",
    "    \n",
    "print(arr)"
   ]
  },
  {
   "cell_type": "code",
   "execution_count": 46,
   "metadata": {},
   "outputs": [
    {
     "name": "stdout",
     "output_type": "stream",
     "text": [
      "[77, 34, 6, 5, 34]\n"
     ]
    }
   ],
   "source": [
    "arr = [34, 5, 6, 34, 77]\n",
    "\n",
    "left = 0\n",
    "right = len(arr) - 1\n",
    "\n",
    "while left < right:\n",
    "    temp = arr[left]\n",
    "    arr[left] = arr[right]\n",
    "    arr[right] = temp\n",
    "    \n",
    "    left += 1\n",
    "    right -= 1\n",
    "    \n",
    "print(arr)"
   ]
  },
  {
   "cell_type": "code",
   "execution_count": 47,
   "metadata": {},
   "outputs": [
    {
     "name": "stdout",
     "output_type": "stream",
     "text": [
      "[34, 33, 67]\n",
      "[-111, -23, -66, -89]\n"
     ]
    }
   ],
   "source": [
    "arr = [-111, 34, 33, -23, 67, -66, -89]\n",
    "\n",
    "arr_n = []\n",
    "arr_p = []\n",
    "\n",
    "for i in arr:\n",
    "    if i < 0:\n",
    "        arr_n.append(i)\n",
    "    else:\n",
    "        arr_p.append(i)\n",
    "        \n",
    "print(arr_p)\n",
    "print(arr_n)"
   ]
  },
  {
   "cell_type": "code",
   "execution_count": 51,
   "metadata": {},
   "outputs": [
    {
     "name": "stdout",
     "output_type": "stream",
     "text": [
      "(['Rohit', 'Rohan', 'Ravi'], ['Lopi', 'Lohit'], ['Samba', 'Sambit'])\n"
     ]
    }
   ],
   "source": [
    "str = ['Rohit', 'Rohan', 'Ravi', 'Lopi', 'Lohit', 'Samba', 'Sambit']\n",
    "\n",
    "def separator(str):\n",
    "    \n",
    "    r_str = []\n",
    "    l_str = []\n",
    "    s_str = []\n",
    "    \n",
    "    for i in str:\n",
    "        if i[0] == 'R':\n",
    "            r_str.append(i)\n",
    "        elif i[0] == 'L':\n",
    "            l_str.append(i)\n",
    "        else:\n",
    "            s_str.append(i)\n",
    "            \n",
    "    return r_str, l_str, s_str\n",
    "\n",
    "print(separator(str))\n"
   ]
  },
  {
   "cell_type": "code",
   "execution_count": 7,
   "metadata": {},
   "outputs": [
    {
     "name": "stdout",
     "output_type": "stream",
     "text": [
      "tihoR\n"
     ]
    }
   ],
   "source": [
    "s1 = 'Rohit'\n",
    "\n",
    "def rev(s1):\n",
    "    e_str = ''\n",
    "    \n",
    "    for i in range(len(s1)):\n",
    "        e_str = s1[i] + e_str\n",
    "    return e_str\n",
    "\n",
    "print(rev(s1))\n",
    "            \n",
    "            "
   ]
  },
  {
   "cell_type": "markdown",
   "metadata": {},
   "source": [
    "### 03/09/24"
   ]
  },
  {
   "cell_type": "markdown",
   "metadata": {},
   "source": [
    "#### Find the highest and 3rd highest number"
   ]
  },
  {
   "cell_type": "code",
   "execution_count": 13,
   "metadata": {},
   "outputs": [
    {
     "name": "stdout",
     "output_type": "stream",
     "text": [
      "33\n"
     ]
    }
   ],
   "source": [
    "arr = [-111, 34, 33, -23, 67, -66, -89]\n",
    "\n",
    "max= 0\n",
    "secMax = 0\n",
    "max_3 = 0\n",
    "\n",
    "for i in range(len(arr)):\n",
    "    if arr[i] > max:\n",
    "        # max_3 = secMax\n",
    "        max_3 = secMax\n",
    "        # max = arr[i]\n",
    "        secMax = max\n",
    "        max = arr[i]\n",
    "        i += 1\n",
    "    elif arr[i]>secMax and arr[i]<max:\n",
    "        secMax=arr[i]\n",
    "    elif arr[i]>max_3 and arr[i]<secMax and arr[i]< max:\n",
    "        max_3 = arr[i]\n",
    "        \n",
    "print(max_3)"
   ]
  },
  {
   "cell_type": "markdown",
   "metadata": {},
   "source": [
    "### Return the elements of a list with first letter as capital"
   ]
  },
  {
   "cell_type": "code",
   "execution_count": 16,
   "metadata": {},
   "outputs": [
    {
     "name": "stdout",
     "output_type": "stream",
     "text": [
      "['Xyz', 'Abc', 'Jkl']\n"
     ]
    }
   ],
   "source": [
    "arr = ['xyz', 'abc', 'jkl']\n",
    "\n",
    "def cap(arr):\n",
    "    for i in range(len(arr)):\n",
    "        arr[i] = arr[i].title()\n",
    "        \n",
    "    return arr\n",
    "\n",
    "print(cap(arr))"
   ]
  },
  {
   "cell_type": "code",
   "execution_count": 3,
   "metadata": {},
   "outputs": [
    {
     "name": "stdout",
     "output_type": "stream",
     "text": [
      "['Xyz', 'Abc', 'Jkl']\n"
     ]
    }
   ],
   "source": [
    "arr = ['xyz', 'abc', 'jkl']\n",
    "\n",
    "def capital(arr):\n",
    "    arr_cap = []\n",
    "    for i in arr:\n",
    "        arr_cap.append(i[0].upper() + i[1:])\n",
    "        \n",
    "    return arr_cap\n",
    "\n",
    "print(capital(arr))"
   ]
  },
  {
   "cell_type": "code",
   "execution_count": 8,
   "metadata": {},
   "outputs": [
    {
     "name": "stdout",
     "output_type": "stream",
     "text": [
      "77\n"
     ]
    }
   ],
   "source": [
    "arr = [34, 5, 6, 34, 77]\n",
    "\n",
    "def max(arr):\n",
    "    max = 0\n",
    "     \n",
    "    for i in range(len(arr)):\n",
    "         if arr[i] > max:\n",
    "             max = arr[i]\n",
    "             \n",
    "    return max\n",
    "\n",
    "print(max(arr))\n",
    "                 "
   ]
  },
  {
   "cell_type": "code",
   "execution_count": 32,
   "metadata": {},
   "outputs": [
    {
     "name": "stdout",
     "output_type": "stream",
     "text": [
      "35\n"
     ]
    }
   ],
   "source": [
    "arr = [34, 5, 6, 35, 77]\n",
    "\n",
    "def max_2(arr):\n",
    "    max = 0\n",
    "    max2 = 0\n",
    "    \n",
    "    for i in range(len(arr)):\n",
    "        if arr[i] > max:\n",
    "            max2 = max\n",
    "            max = arr[i]\n",
    "            \n",
    "        elif arr[i] > max2 and arr[i] < max:\n",
    "            max2 = arr[i]\n",
    "            \n",
    "    return max2\n",
    "\n",
    "print(max_2(arr))"
   ]
  },
  {
   "cell_type": "code",
   "execution_count": 12,
   "metadata": {},
   "outputs": [
    {
     "name": "stdout",
     "output_type": "stream",
     "text": [
      "67\n"
     ]
    }
   ],
   "source": [
    "arr = [34, 52, 67, 56, 77, 45, 66]\n",
    "\n",
    "def max_2(arr):\n",
    "    max = 0\n",
    "    max2 = 0\n",
    "    \n",
    "    for i in range(len(arr)):\n",
    "        if arr[i] > max:\n",
    "            max2 = max\n",
    "            max = arr[i]\n",
    "        elif arr[i] > max2 and arr[i] < max:\n",
    "            max2 = arr[i]\n",
    "            \n",
    "    return max2\n",
    "\n",
    "print(max_2(arr))\n",
    "    "
   ]
  },
  {
   "cell_type": "code",
   "execution_count": 16,
   "metadata": {},
   "outputs": [
    {
     "name": "stdout",
     "output_type": "stream",
     "text": [
      "66\n"
     ]
    }
   ],
   "source": [
    "# 3rd highest number\n",
    "\n",
    "arr = [34, 52, 67, 56, 77, 45, 66]\n",
    "\n",
    "def max_3(arr):\n",
    "    max = 0\n",
    "    max2 = 0\n",
    "    max3 = 0\n",
    "    \n",
    "    for i in range(len(arr)):\n",
    "        if arr[i] > max:\n",
    "            max3 = max2\n",
    "            max2 = max\n",
    "            max = arr[i]\n",
    "            \n",
    "        elif arr[i] > max2 and arr[i] < max:\n",
    "            max2 = arr[i]\n",
    "            \n",
    "        elif arr[i] > max3 and arr[i] < max2:\n",
    "            max3 = arr[i]\n",
    "            \n",
    "    return max3\n",
    "\n",
    "print(max_3(arr))\n",
    "            "
   ]
  },
  {
   "cell_type": "code",
   "execution_count": 19,
   "metadata": {},
   "outputs": [
    {
     "name": "stdout",
     "output_type": "stream",
     "text": [
      "56\n"
     ]
    }
   ],
   "source": [
    "# 4th highest nummber\n",
    "\n",
    "arr = [34, 52, 67, 56, 77, 45, 66]\n",
    "\n",
    "def max_4(arr):\n",
    "    max = 0\n",
    "    max2 = 0\n",
    "    max3 = 0\n",
    "    max4 = 0\n",
    "    \n",
    "    for i in range(len(arr)):\n",
    "        if arr[i] > max:\n",
    "            max4 = max3\n",
    "            max3 = max2\n",
    "            max2 = max\n",
    "            max = arr[i]\n",
    "\n",
    "        elif arr[i] > max2 and arr[i] < max:\n",
    "            max4 = max3\n",
    "            max3 = max2\n",
    "            max2 = arr[i]\n",
    "            \n",
    "        elif arr[i] > max3 and arr[i] < max2:\n",
    "            max4 = max3\n",
    "            max3 = arr[i]\n",
    "            \n",
    "        elif arr[i] > max4 and arr[i] < max3:\n",
    "            max4 = arr[i]\n",
    "                 \n",
    "    return max4\n",
    "\n",
    "print(max_4(arr))"
   ]
  },
  {
   "cell_type": "markdown",
   "metadata": {},
   "source": [
    "find the minimun, 2nd minimum, 3rd minimum value"
   ]
  },
  {
   "cell_type": "code",
   "execution_count": 25,
   "metadata": {},
   "outputs": [
    {
     "name": "stdout",
     "output_type": "stream",
     "text": [
      "-78\n"
     ]
    }
   ],
   "source": [
    "# Find the smallest number in the array\n",
    "\n",
    "arr = [34, 52, 67, 56, 77, 45, 66, 12, 9, -23, -78]\n",
    "\n",
    "def min_val(arr):\n",
    "    min = arr[0]\n",
    "    \n",
    "    for i in range(len(arr)):\n",
    "        if arr[i] < min:\n",
    "            min = arr[i]\n",
    "        \n",
    "    return min\n",
    "\n",
    "print(min_val(arr))"
   ]
  },
  {
   "cell_type": "code",
   "execution_count": 28,
   "metadata": {},
   "outputs": [
    {
     "name": "stdout",
     "output_type": "stream",
     "text": [
      "12\n"
     ]
    }
   ],
   "source": [
    "# Finding the 2nd smallest number in the list\n",
    "\n",
    "arr = [34, 52, 67, 56, 77, 45, 66, 12, 9]\n",
    "\n",
    "def min_2(arr):\n",
    "    min = arr[0]\n",
    "    min2 = arr[1]\n",
    "    \n",
    "    for i in range(len(arr)):\n",
    "        if arr[i] < min:\n",
    "            min2 = min\n",
    "            min = arr[i]\n",
    "            \n",
    "        elif arr[i] < min and arr[i] > min2:\n",
    "            min2 = arr[i]\n",
    "        \n",
    "    return min2\n",
    "\n",
    "print(min_2(arr))"
   ]
  },
  {
   "cell_type": "code",
   "execution_count": 35,
   "metadata": {},
   "outputs": [
    {
     "name": "stdout",
     "output_type": "stream",
     "text": [
      "23\n"
     ]
    }
   ],
   "source": [
    "# Find the 3rd smallest element in the list\n",
    "\n",
    "arr = [12, 20, 23, 40, 56, 78]\n",
    "\n",
    "def min_3(arr):\n",
    "    min1 = arr[0]\n",
    "    min2 = arr[1]\n",
    "    min3 = arr[2]\n",
    "    \n",
    "    for i in range(len(arr)):\n",
    "        if arr[i] < min1:\n",
    "            min3 = min2\n",
    "            min2 = min1\n",
    "            min1 = arr[i]\n",
    "            \n",
    "        elif arr[i] > min3 and arr[i] < min2:\n",
    "            min3 = arr[i]\n",
    "            \n",
    "        elif arr[i] < min1 and arr[i] > min2:\n",
    "            min2 = arr[i]\n",
    "            \n",
    "    return min3\n",
    "\n",
    "print(min_3(arr))"
   ]
  },
  {
   "cell_type": "markdown",
   "metadata": {},
   "source": [
    "#### Checking for pallindrome"
   ]
  },
  {
   "cell_type": "code",
   "execution_count": 1,
   "metadata": {},
   "outputs": [
    {
     "name": "stdout",
     "output_type": "stream",
     "text": [
      "Not Palindrome\n",
      "False\n"
     ]
    }
   ],
   "source": [
    "# pallindrome\n",
    "\n",
    "str1 = 'ababaa'\n",
    "\n",
    "def is_palindrome(str1):\n",
    "    for i in range(len(str1)//2):\n",
    "        if str1[i] != str1[-i-1]:\n",
    "            print('Not Palindrome')\n",
    "            return False\n",
    "    print('Palindrome')\n",
    "    return True\n",
    "\n",
    "print(is_palindrome(str1))"
   ]
  },
  {
   "cell_type": "code",
   "execution_count": 68,
   "metadata": {},
   "outputs": [
    {
     "name": "stdout",
     "output_type": "stream",
     "text": [
      "Palindrome\n"
     ]
    }
   ],
   "source": [
    "str = 'ababa'\n",
    "\n",
    "def a_palindrome(str):\n",
    "    left = 0\n",
    "    right = len(str) -1 \n",
    "    \n",
    "    while left < right:\n",
    "        if str[left] != str[right]:\n",
    "            print('Not Palindrome')\n",
    "            return\n",
    "        \n",
    "        left += 1\n",
    "        right -= 1\n",
    "    \n",
    "    print('Palindrome') \n",
    "    # return True\n",
    "    \n",
    "a_palindrome(str)"
   ]
  },
  {
   "cell_type": "code",
   "execution_count": 1,
   "metadata": {},
   "outputs": [
    {
     "name": "stdout",
     "output_type": "stream",
     "text": [
      "Not Weird\n"
     ]
    }
   ],
   "source": [
    "n = 24\n",
    "\n",
    "if n % 2 != 0:\n",
    "    print('Weird')\n",
    "    \n",
    "elif n in range(2, 6) and n % 2 == 0:\n",
    "    print('Not Weird')\n",
    "    \n",
    "elif n in range(6, 21) and n % 2 == 0:\n",
    "    print('Weird')\n",
    "    \n",
    "else:\n",
    "    print('Not Weird')"
   ]
  },
  {
   "cell_type": "code",
   "execution_count": 2,
   "metadata": {},
   "outputs": [
    {
     "name": "stdout",
     "output_type": "stream",
     "text": [
      "5\n",
      "1\n",
      "6\n"
     ]
    }
   ],
   "source": [
    "a = int(input())\n",
    "b = int(input())\n",
    "\n",
    "print(a+b)\n",
    "print(a-b)\n",
    "print(a*b)"
   ]
  },
  {
   "cell_type": "code",
   "execution_count": 3,
   "metadata": {},
   "outputs": [
    {
     "name": "stdout",
     "output_type": "stream",
     "text": [
      "0\n",
      "0.6\n"
     ]
    }
   ],
   "source": [
    "a = int(input())\n",
    "b = int(input())\n",
    "\n",
    "print(a//b)\n",
    "print(a/b)"
   ]
  },
  {
   "cell_type": "code",
   "execution_count": 10,
   "metadata": {},
   "outputs": [
    {
     "name": "stdout",
     "output_type": "stream",
     "text": [
      "0\n",
      "1\n",
      "4\n",
      "9\n",
      "16\n"
     ]
    }
   ],
   "source": [
    "n = int(input())\n",
    "\n",
    "for i in range(n):\n",
    "    i = i**2\n",
    "    print(i)"
   ]
  },
  {
   "cell_type": "code",
   "execution_count": 20,
   "metadata": {},
   "outputs": [
    {
     "name": "stdout",
     "output_type": "stream",
     "text": [
      "None\n"
     ]
    }
   ],
   "source": [
    "year = int(input())\n",
    "\n",
    "def is_leap(year):\n",
    "    if year % 4 == 0 or year % 100 == 0:\n",
    "        return False\n",
    "    elif year % 4 == 0 or year % 400 == 0:\n",
    "        return True\n",
    "    \n",
    "print(is_leap(year))"
   ]
  },
  {
   "cell_type": "markdown",
   "metadata": {},
   "source": [
    "#### Checking for a leap year"
   ]
  },
  {
   "cell_type": "code",
   "execution_count": 25,
   "metadata": {},
   "outputs": [
    {
     "name": "stdout",
     "output_type": "stream",
     "text": [
      "False\n"
     ]
    }
   ],
   "source": [
    "year = int(input())\n",
    "\n",
    "def is_leap(year):\n",
    "    if year % 4 == 0:\n",
    "        if year % 100 == 0:\n",
    "            if year % 400 == 0:\n",
    "                return True\n",
    "            else:\n",
    "                return False\n",
    "        else:\n",
    "            return True\n",
    "    else:\n",
    "        return False\n",
    "    \n",
    "print(is_leap(year))"
   ]
  },
  {
   "cell_type": "markdown",
   "metadata": {},
   "source": [
    "### 04/09/24"
   ]
  },
  {
   "cell_type": "code",
   "execution_count": 11,
   "metadata": {},
   "outputs": [
    {
     "name": "stdout",
     "output_type": "stream",
     "text": [
      "['rahul', 'rohit', 'rohan']\n"
     ]
    }
   ],
   "source": [
    "# return the names that are duplicate\n",
    "\n",
    "arr = ['rahul', 'rohit', 'rohan', 'sandeep', 'rahul', 'rohan', 'rohit', 'sambit', 'abdul', 'virat']\n",
    "\n",
    "def duplicate(arr):\n",
    "    \n",
    "    duplicate_name = []\n",
    "    \n",
    "    for i in range(len(arr)):\n",
    "        for j in range(i+1, len(arr)):\n",
    "            if arr[i] == arr[j]:\n",
    "                duplicate_name.append(arr[i])\n",
    "                \n",
    "            else:\n",
    "                pass\n",
    "    return duplicate_name\n",
    "\n",
    "print(duplicate(arr))"
   ]
  },
  {
   "cell_type": "code",
   "execution_count": 10,
   "metadata": {},
   "outputs": [
    {
     "name": "stdout",
     "output_type": "stream",
     "text": [
      "['rahul', 'rohit', 'rohan']\n"
     ]
    }
   ],
   "source": [
    "# Return the names that are occurring more than once\n",
    "\n",
    "\n",
    "arr = ['rahul', 'rohit', 'rohan', 'sandeep', 'rahul', 'rohan', 'rohit', 'sambit', 'abdul', 'virat', 'rohit', 'rohan']\n",
    "\n",
    "def occurance(arr):\n",
    "    \n",
    "    duplicate_names = []\n",
    "    \n",
    "    for i in range(len(arr)):\n",
    "        for j in range(i+1, len(arr)):\n",
    "            if arr[i] == arr[j] and arr[i] not in duplicate_names:\n",
    "                duplicate_names.append(arr[i])\n",
    "            else:\n",
    "                pass\n",
    "            \n",
    "    return duplicate_names\n",
    "\n",
    "print(occurance(arr))\n",
    "                "
   ]
  },
  {
   "cell_type": "code",
   "execution_count": 21,
   "metadata": {},
   "outputs": [
    {
     "name": "stdout",
     "output_type": "stream",
     "text": [
      "123"
     ]
    }
   ],
   "source": [
    "n = 3\n",
    "\n",
    "for i in range(1, n+1):\n",
    "    print(i, end=\"\")"
   ]
  },
  {
   "cell_type": "code",
   "execution_count": 23,
   "metadata": {},
   "outputs": [
    {
     "name": "stdout",
     "output_type": "stream",
     "text": [
      "[[0, 0, 0], [0, 0, 1], [0, 1, 0], [0, 1, 2], [0, 2, 1], [0, 2, 2], [1, 0, 0], [1, 0, 2], [1, 1, 1], [1, 1, 2], [1, 2, 0], [1, 2, 1], [1, 2, 2], [2, 0, 1], [2, 0, 2], [2, 1, 0], [2, 1, 1], [2, 1, 2], [2, 2, 0], [2, 2, 1], [2, 2, 2]]\n"
     ]
    }
   ],
   "source": [
    "x = int(input())\n",
    "y = int(input())\n",
    "z = int(input())\n",
    "n = int(input())\n",
    "\n",
    "pairs = []\n",
    "\n",
    "for n1 in range(x+1):\n",
    "    for n2 in range(y+1):\n",
    "        for n3 in range(z+1):\n",
    "            if n1 + n2 + n3 != n:\n",
    "                pairs.append([n1, n2, n3])\n",
    "                \n",
    "print(pairs)"
   ]
  },
  {
   "cell_type": "code",
   "execution_count": 34,
   "metadata": {},
   "outputs": [
    {
     "data": {
      "text/plain": [
       "5"
      ]
     },
     "execution_count": 34,
     "metadata": {},
     "output_type": "execute_result"
    }
   ],
   "source": [
    "n = int(input(\"Enter the number of elements: \"))  # e.g., 5\n",
    "arr = list(map(int, input(\"Enter the integers separated by space: \").split()))  # e.g., 1 2 3 4 5\n",
    "# e.g., 1 2 3 4 5\n",
    "# print(\"The list of integers is:\", arr)\n",
    "\n",
    "def max_2(arr):\n",
    "    max = 0\n",
    "    max2 = 0\n",
    "    \n",
    "    for i in range(len(arr)):\n",
    "        if arr[i] > max:\n",
    "            max2 = max\n",
    "            max = arr[i]\n",
    "            \n",
    "        elif arr[i] > max2 and arr[i] < max:\n",
    "            max2 = arr[i]\n",
    "            \n",
    "    return max2\n",
    "\n",
    "max_2(arr)\n",
    "    \n"
   ]
  },
  {
   "cell_type": "code",
   "execution_count": 44,
   "metadata": {},
   "outputs": [
    {
     "name": "stdout",
     "output_type": "stream",
     "text": [
      "-1\n"
     ]
    }
   ],
   "source": [
    "def max_2nd(arr):\n",
    "    \n",
    "    max1 = float('-inf')\n",
    "    max2 = float('-inf')\n",
    "    \n",
    "    for num in arr:\n",
    "        if num > max1:\n",
    "            max2 = max1\n",
    "            max1 = num\n",
    "            \n",
    "        elif num > max2 and num < max1:\n",
    "            max2 = num\n",
    "            \n",
    "    if max2 == float('-inf'):\n",
    "        return None\n",
    "            \n",
    "    return max2\n",
    "\n",
    "\n",
    "n = int(input(\"Enter the number of elements: \"))\n",
    "arr = list(map(int, input(\"Enter the integers separated by space: \").split()))  # e.g., 1 2 3 4 5\n",
    "result = max_2nd(arr)\n",
    "\n",
    "if result is None:\n",
    "    print('No 2nd element')\n",
    "else:\n",
    "    print(result)\n",
    "\n",
    "# print(max_2nd(arr))\n",
    "            "
   ]
  },
  {
   "cell_type": "code",
   "execution_count": 8,
   "metadata": {},
   "outputs": [
    {
     "name": "stdout",
     "output_type": "stream",
     "text": [
      "-1\n"
     ]
    }
   ],
   "source": [
    "def max_2(arr):\n",
    "    max1 = float('-inf')\n",
    "    max2 = float('-inf')\n",
    "    \n",
    "    for num in arr:\n",
    "\n",
    "        if num > max1:\n",
    "            max2 = max1\n",
    "            max1 = num\n",
    "            \n",
    "        elif num > max2 and num < max1:\n",
    "            max2 = num\n",
    "            \n",
    "    if num == ('-inf'):\n",
    "        return None\n",
    "    \n",
    "    return max2\n",
    "\n",
    "# n = int(input())\n",
    "arr = [-1, -1, -1, 1]\n",
    "result = max_2(arr)\n",
    "\n",
    "if result is None:\n",
    "    print('No 2nd Max')\n",
    "else:\n",
    "    print(result)\n"
   ]
  },
  {
   "cell_type": "code",
   "execution_count": 9,
   "metadata": {},
   "outputs": [
    {
     "name": "stdout",
     "output_type": "stream",
     "text": [
      "-1\n"
     ]
    }
   ],
   "source": [
    "def max_2(arr):\n",
    "    max1 = float('-inf')\n",
    "    max2 = float('-inf')\n",
    "    \n",
    "    for i in arr:\n",
    "\n",
    "        if arr[i] > max1:\n",
    "            max2 = max1\n",
    "            max1 = arr[i]\n",
    "            \n",
    "        elif arr[i] > max2 and arr[i] < max1:\n",
    "            max2 = arr[i]\n",
    "            \n",
    "    if arr[i] == ('-inf'):\n",
    "        return None\n",
    "    \n",
    "    return max2\n",
    "\n",
    "# n = int(input())\n",
    "arr = [-1, -1, -1, 1]\n",
    "result = max_2(arr)\n",
    "\n",
    "if result is None:\n",
    "    print('No 2nd Max')\n",
    "else:\n",
    "    print(result)\n"
   ]
  },
  {
   "cell_type": "code",
   "execution_count": 19,
   "metadata": {},
   "outputs": [
    {
     "name": "stdout",
     "output_type": "stream",
     "text": [
      "dhbsv\n",
      "vdfbf\n"
     ]
    }
   ],
   "source": [
    "n = int(input(\"Enter Number of students: \"))  \n",
    "students = []\n",
    "\n",
    "for i in range(n):\n",
    "    name = input(\"Enter Name\")\n",
    "    grade = float(input('Enter Score'))\n",
    "    students.append([name, grade])\n",
    "    \n",
    "grades = [student[1] for student in students]\n",
    "uni_grades = sorted(set(grades))\n",
    "    \n",
    "second_lowest_grade = uni_grades[1]\n",
    "\n",
    "second_lowest_student = [student[0] for student in students if student[1] == second_lowest_grade]\n",
    "\n",
    "second_lowest_student.sort()\n",
    "\n",
    "for name in second_lowest_student:\n",
    "    print(name)\n",
    "    \n",
    "# print(students)"
   ]
  },
  {
   "cell_type": "code",
   "execution_count": 6,
   "metadata": {},
   "outputs": [
    {
     "name": "stdout",
     "output_type": "stream",
     "text": [
      "28.00\n"
     ]
    }
   ],
   "source": [
    "if __name__ == '__main__':\n",
    "    n = int(input('No. of students: '))\n",
    "    student_marks = {}\n",
    "    \n",
    "    for _ in range(n):\n",
    "        data = input(\"Enter student name followed by their marks (separated by spaces): \").split()\n",
    "        name = data[0]\n",
    "        scores = list(map(float, data[1:]))\n",
    "        student_marks[name] = scores\n",
    "        \n",
    "    query_name = input(\"Enter the name of the student to query: \")\n",
    "    \n",
    "    avg_mark = sum(student_marks[query_name]) / len(student_marks[query_name])\n",
    "    \n",
    "    print(f\"{avg_mark:.2f}\")"
   ]
  },
  {
   "cell_type": "code",
   "execution_count": 5,
   "metadata": {},
   "outputs": [
    {
     "name": "stdout",
     "output_type": "stream",
     "text": [
      "26.50\n"
     ]
    }
   ],
   "source": [
    "def main():\n",
    "    # Input number of students\n",
    "    n = int(input('No. of students: '))\n",
    "    \n",
    "    # Dictionary to store student names and their marks\n",
    "    student_marks = {}\n",
    "    \n",
    "    # Collect student data\n",
    "    for _ in range(n):\n",
    "        # Input student name and marks\n",
    "        data = input(\"Enter student name followed by their marks (separated by spaces): \").split()\n",
    "        name = data[0]\n",
    "        scores = list(map(float, data[1:]))\n",
    "        student_marks[name] = scores\n",
    "    \n",
    "    # Input the name of the student to query\n",
    "    query_name = input(\"Enter the name of the student to query: \")\n",
    "    \n",
    "    # Calculate the average mark for the queried student\n",
    "    if query_name in student_marks:\n",
    "        avg_mark = sum(student_marks[query_name]) / len(student_marks[query_name])\n",
    "        print(f\"{avg_mark:.2f}\")\n",
    "    else:\n",
    "        print(\"Student not found\")\n",
    "\n",
    "if __name__ == '__main__':\n",
    "    main()\n"
   ]
  },
  {
   "cell_type": "markdown",
   "metadata": {},
   "source": [
    "#### Two Sum"
   ]
  },
  {
   "cell_type": "markdown",
   "metadata": {},
   "source": [
    "Given an array of integers nums and an integer target, return indices of the two numbers such that they add up to target.\n",
    "\n",
    "You may assume that each input would have exactly one solution, and you may not use the same element twice.\n",
    "\n",
    "You can return the answer in any order."
   ]
  },
  {
   "cell_type": "markdown",
   "metadata": {},
   "source": [
    "Example 1:\n",
    "\n",
    "Input: nums = [2,7,11,15], target = 9\n",
    "Output: [0,1]\n",
    "\n",
    "Explanation: Because nums[0] + nums[1] == 9, we return [0, 1]."
   ]
  },
  {
   "cell_type": "code",
   "execution_count": 12,
   "metadata": {},
   "outputs": [
    {
     "name": "stdout",
     "output_type": "stream",
     "text": [
      "[7, 8, 5, 8]\n",
      "[1, 2]\n"
     ]
    }
   ],
   "source": [
    "def two_sum(nums, target):\n",
    "    \n",
    "    for i in range(len(nums)):\n",
    "        for j in range(i+1, len(nums)):\n",
    "            if nums[i] + nums[j] == target:\n",
    "                return[i, j]\n",
    "            \n",
    "nums = list(map(int, input('Enter The list of numbers separated by comma: ').split(',')))\n",
    "target = int(input('Enter The Target: '))\n",
    "\n",
    "result = two_sum(nums, target)\n",
    "\n",
    "print(nums)\n",
    "\n",
    "if result:\n",
    "    print(result)\n",
    "    \n",
    "else:\n",
    "    print('Not found')"
   ]
  },
  {
   "cell_type": "code",
   "execution_count": 10,
   "metadata": {},
   "outputs": [
    {
     "name": "stdout",
     "output_type": "stream",
     "text": [
      "[0, 1]\n"
     ]
    }
   ],
   "source": [
    "class Solution:\n",
    "    def twoSum(self, nums: list[int], target: int) -> list[int]:\n",
    "        n = len(nums)\n",
    "        for i in range(n - 1):\n",
    "            for j in range(i + 1, n):\n",
    "                if nums[i] + nums[j] == target:\n",
    "                    return [i, j]\n",
    "\n",
    "        return []\n",
    "    \n",
    "    \n",
    "# nums = list(map(int, input().replace(\"[\", \"\").replace(\"]\", \"\").split(\",\")))\n",
    "# target = int(input())\n",
    "\n",
    "# solution = Solution()\n",
    "# result = solution.twoSum(nums, target)\n",
    "\n",
    "# if result:\n",
    "#     print(result)\n",
    "\n",
    "# else:\n",
    "#     pass"
   ]
  },
  {
   "cell_type": "markdown",
   "metadata": {},
   "source": [
    "#### Remove special characters from a string"
   ]
  },
  {
   "cell_type": "code",
   "execution_count": 2,
   "metadata": {},
   "outputs": [
    {
     "name": "stdout",
     "output_type": "stream",
     "text": [
      "Mohit\n"
     ]
    }
   ],
   "source": [
    "def is_alpha(str):\n",
    "    result = \"\"\n",
    "    \n",
    "    for char in str:\n",
    "        if 'a' <= char <= 'z' or 'A' <= char <= 'Z':\n",
    "            result += char\n",
    "            \n",
    "    return result\n",
    "\n",
    "str = '$M0o*&h!i#t@'\n",
    "cleaned_str = is_alpha(str)\n",
    "print(cleaned_str)\n",
    "    "
   ]
  },
  {
   "cell_type": "code",
   "execution_count": null,
   "metadata": {},
   "outputs": [],
   "source": []
  }
 ],
 "metadata": {
  "kernelspec": {
   "display_name": "Python 3",
   "language": "python",
   "name": "python3"
  },
  "language_info": {
   "codemirror_mode": {
    "name": "ipython",
    "version": 3
   },
   "file_extension": ".py",
   "mimetype": "text/x-python",
   "name": "python",
   "nbconvert_exporter": "python",
   "pygments_lexer": "ipython3",
   "version": "3.10.7"
  }
 },
 "nbformat": 4,
 "nbformat_minor": 2
}
