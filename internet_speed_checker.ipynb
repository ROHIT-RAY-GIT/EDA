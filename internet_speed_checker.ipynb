{
 "cells": [
  {
   "cell_type": "code",
   "execution_count": 1,
   "metadata": {},
   "outputs": [],
   "source": [
    "import tkinter as tk\n",
    "from tkinter import ttk\n",
    "import threading\n",
    "import speedtest"
   ]
  },
  {
   "cell_type": "code",
   "execution_count": 2,
   "metadata": {},
   "outputs": [
    {
     "name": "stderr",
     "output_type": "stream",
     "text": [
      "Exception in thread Thread-77 (run_speed_test):\n",
      "Traceback (most recent call last):\n",
      "  File \"c:\\Users\\rohit\\AppData\\Local\\Programs\\Python\\Python310\\lib\\threading.py\", line 1016, in _bootstrap_inner\n",
      "    self.run()\n",
      "  File \"c:\\Users\\rohit\\AppData\\Local\\Programs\\Python\\Python310\\lib\\threading.py\", line 953, in run\n",
      "    self._target(*self._args, **self._kwargs)\n",
      "  File \"C:\\Users\\rohit\\AppData\\Local\\Temp\\ipykernel_23432\\2798246812.py\", line 42, in run_speed_test\n",
      "  File \"c:\\Users\\rohit\\AppData\\Local\\Programs\\Python\\Python310\\lib\\tkinter\\__init__.py\", line 1675, in configure\n",
      "    return self._configure('configure', cnf, kw)\n",
      "  File \"c:\\Users\\rohit\\AppData\\Local\\Programs\\Python\\Python310\\lib\\tkinter\\__init__.py\", line 1665, in _configure\n",
      "    self.tk.call(_flatten((self._w, cmd)) + self._options(cnf))\n",
      "RuntimeError: main thread is not in main loop\n"
     ]
    }
   ],
   "source": [
    "\n",
    "class NetworkSpeedChecker:\n",
    "    def __init__(self, root):\n",
    "        self.root = root\n",
    "        self.root.title(\"Real-Time Network Speed Checker\")\n",
    "        self.root.geometry(\"400x300\")\n",
    "        \n",
    "        # Title Label\n",
    "        self.title_label = ttk.Label(self.root, text=\"Network Speed Checker\", font=(\"Helvetica\", 16))\n",
    "        self.title_label.pack(pady=20)\n",
    "\n",
    "        # Download Speed Label\n",
    "        self.download_label = ttk.Label(self.root, text=\"Download Speed: Testing...\", font=(\"Helvetica\", 14))\n",
    "        self.download_label.pack(pady=10)\n",
    "        \n",
    "        # Upload Speed Label\n",
    "        self.upload_label = ttk.Label(self.root, text=\"Upload Speed: Testing...\", font=(\"Helvetica\", 14))\n",
    "        self.upload_label.pack(pady=10)\n",
    "        \n",
    "        # Ping Label\n",
    "        self.ping_label = ttk.Label(self.root, text=\"Ping: Testing...\", font=(\"Helvetica\", 14))\n",
    "        self.ping_label.pack(pady=10)\n",
    "        \n",
    "        # Start Button\n",
    "        self.start_button = ttk.Button(self.root, text=\"Start Test\", command=self.start_test)\n",
    "        self.start_button.pack(pady=20)\n",
    "        \n",
    "    def start_test(self):\n",
    "        self.download_label.config(text=\"Download Speed: Testing...\")\n",
    "        self.upload_label.config(text=\"Upload Speed: Testing...\")\n",
    "        self.ping_label.config(text=\"Ping: Testing...\")\n",
    "        \n",
    "        threading.Thread(target=self.run_speed_test).start()\n",
    "    \n",
    "    def run_speed_test(self):\n",
    "        st = speedtest.Speedtest()\n",
    "        st.get_best_server()\n",
    "        \n",
    "        download_speed = st.download() / 1_000_000  # Convert to Mbps\n",
    "        upload_speed = st.upload() / 1_000_000      # Convert to Mbps\n",
    "        ping = st.results.ping\n",
    "        \n",
    "        self.download_label.config(text=f\"Download Speed: {download_speed:.2f} Mbps\")\n",
    "        self.upload_label.config(text=f\"Upload Speed: {upload_speed:.2f} Mbps\")\n",
    "        self.ping_label.config(text=f\"Ping: {ping:.2f} ms\")\n",
    "\n",
    "# Main Application\n",
    "if __name__ == \"__main__\":\n",
    "    root = tk.Tk()\n",
    "    app = NetworkSpeedChecker(root)\n",
    "    root.mainloop()\n"
   ]
  }
 ],
 "metadata": {
  "kernelspec": {
   "display_name": "Python 3",
   "language": "python",
   "name": "python3"
  },
  "language_info": {
   "codemirror_mode": {
    "name": "ipython",
    "version": 3
   },
   "file_extension": ".py",
   "mimetype": "text/x-python",
   "name": "python",
   "nbconvert_exporter": "python",
   "pygments_lexer": "ipython3",
   "version": "3.10.7"
  }
 },
 "nbformat": 4,
 "nbformat_minor": 2
}
