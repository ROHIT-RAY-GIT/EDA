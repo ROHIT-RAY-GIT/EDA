{
 "cells": [
  {
   "cell_type": "code",
   "execution_count": null,
   "metadata": {},
   "outputs": [],
   "source": [
    "import tkinter as tk\n",
    "# from tkinter import messagebox\n",
    "\n",
    "# function to called when button is clicked\n",
    "def on_button_click():\n",
    "    # user_input = entry.get()\n",
    "    # messagebox.showinfo(\"Information\")\n",
    "    label.config(text = 'Button Clicked')\n",
    "\n",
    "# Create the main application window   \n",
    "root = tk.Tk()\n",
    "root.title('Simple tkinter app')\n",
    "\n",
    "# Create label widget\n",
    "label = tk.Label(root, text = 'Hello tkinter')\n",
    "label.pack(pady=20)\n",
    "\n",
    "# Button Creation\n",
    "button = tk.Button(root, text='Click Me', command=on_button_click)\n",
    "button.pack(pady=20)\n",
    "\n",
    "root.mainloop()"
   ]
  },
  {
   "cell_type": "code",
   "execution_count": 1,
   "metadata": {},
   "outputs": [],
   "source": [
    "from tkinter import *\n",
    "import random, string\n",
    "import pyperclip"
   ]
  },
  {
   "cell_type": "code",
   "execution_count": 13,
   "metadata": {},
   "outputs": [],
   "source": [
    "from tkinter import *\n",
    "import random, string\n",
    "import pyperclip\n",
    "\n",
    "root = Tk()\n",
    "root.geometry(\"400x400\")\n",
    "root.resizable(0,0)\n",
    "root.title('Python - Password Generator')\n",
    "\n",
    "Label(root, text = 'Password Generator', font = 'arial 15 bold').pack()\n",
    "Label(root, text = 'Python', font = 'arial 15 bold').pack(side = BOTTOM)\n",
    "\n",
    "pass_label = Label(root, text = 'Password Length', font = 'arial 10 bold').pack()\n",
    "pass_len = IntVar()\n",
    "length = Spinbox(root, from_ = 8, to_ = 32, textvariable = pass_len, width = 15).pack()\n",
    "pass_str = StringVar()\n",
    "\n",
    "def Generator():\n",
    "    password = []\n",
    "    \n",
    "    \n",
    "    if pass_len.get() >= 4:\n",
    "        password.append(random.choice(string.ascii_uppercase))\n",
    "        password.append(random.choice(string.ascii_lowercase))\n",
    "        password.append(random.choice(string.digits))\n",
    "        password.append(random.choice(string.punctuation))\n",
    "        \n",
    "        for _ in range(pass_len.get() - 4):\n",
    "            password.append(random.choice(string.ascii_uppercase + string.ascii_lowercase + string.digits + string.punctuation))\n",
    "            \n",
    "        random.shuffle(password)\n",
    "        \n",
    "    else:\n",
    "        for _ in range(pass_len.get()):\n",
    "            password.append(random.choice(string.ascii_uppercase + string.ascii_lowercase + string.digits + string.punctuation))\n",
    "            \n",
    "    pass_str.set(''.join(password))\n",
    "            \n",
    "            \n",
    "            \n",
    "def copy_password():\n",
    "    pyperclip.copy(pass_str.get())\n",
    "    \n",
    "Button(root, text = 'Generate Password', command = Generator).pack(pady = 5)\n",
    "Entry(root, textvariable = pass_str).pack()\n",
    "Button(root, text = 'Copy To Clipboard', command = copy_password).pack(pady = 5)\n",
    "\n",
    "root.mainloop()"
   ]
  },
  {
   "cell_type": "code",
   "execution_count": null,
   "metadata": {},
   "outputs": [],
   "source": []
  }
 ],
 "metadata": {
  "kernelspec": {
   "display_name": "Python 3",
   "language": "python",
   "name": "python3"
  },
  "language_info": {
   "codemirror_mode": {
    "name": "ipython",
    "version": 3
   },
   "file_extension": ".py",
   "mimetype": "text/x-python",
   "name": "python",
   "nbconvert_exporter": "python",
   "pygments_lexer": "ipython3",
   "version": "3.10.7"
  }
 },
 "nbformat": 4,
 "nbformat_minor": 2
}
