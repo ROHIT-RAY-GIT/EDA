{
 "cells": [
  {
   "cell_type": "code",
   "execution_count": null,
   "metadata": {},
   "outputs": [],
   "source": [
    "# !pip install pytube3"
   ]
  },
  {
   "cell_type": "code",
   "execution_count": null,
   "metadata": {},
   "outputs": [],
   "source": [
    "# !pip install pytube"
   ]
  },
  {
   "cell_type": "code",
   "execution_count": null,
   "metadata": {},
   "outputs": [],
   "source": [
    "# !pip install yt-dlp"
   ]
  },
  {
   "cell_type": "code",
   "execution_count": null,
   "metadata": {},
   "outputs": [],
   "source": [
    "# !pip install --upgrade pip"
   ]
  },
  {
   "cell_type": "code",
   "execution_count": null,
   "metadata": {},
   "outputs": [],
   "source": [
    "# !pip install yt-dlp"
   ]
  },
  {
   "cell_type": "markdown",
   "metadata": {},
   "source": [
    "### Using pytube"
   ]
  },
  {
   "cell_type": "code",
   "execution_count": 1,
   "metadata": {},
   "outputs": [],
   "source": [
    "from pytube import YouTube"
   ]
  },
  {
   "cell_type": "code",
   "execution_count": 2,
   "metadata": {},
   "outputs": [],
   "source": [
    "# https://www.youtube.com/watch?v=CIrdyI8-L6k\n",
    "# https://www.youtube.com/watch?v=qbE0fzZ2Nfo\n",
    "# https://www.youtube.com/watch?v=m-2aFCLUm-s\n",
    "\n",
    "link = input(\"Enter The Link You Want to Download: \")\n",
    "yt = YouTube(link)"
   ]
  },
  {
   "cell_type": "code",
   "execution_count": 3,
   "metadata": {},
   "outputs": [
    {
     "name": "stdout",
     "output_type": "stream",
     "text": [
      "Title:  Kolkata Doctor Case\n",
      "Views:  4395060\n",
      "Duration:  1976\n",
      "Description:  None\n",
      "Ratings:  None\n"
     ]
    }
   ],
   "source": [
    "print(\"Title: \", yt.title)\n",
    "print(\"Views: \", yt.views)\n",
    "print(\"Duration: \", yt.length)\n",
    "print(\"Description: \", yt.description)\n",
    "print(\"Ratings: \", yt.rating)"
   ]
  },
  {
   "cell_type": "markdown",
   "metadata": {},
   "source": [
    "### Using yt-dlp"
   ]
  },
  {
   "cell_type": "code",
   "execution_count": 4,
   "metadata": {},
   "outputs": [
    {
     "name": "stdout",
     "output_type": "stream",
     "text": [
      "Downloding...\n",
      "[youtube] Extracting URL: https://www.youtube.com/watch?v=m-2aFCLUm-s\n",
      "[youtube] m-2aFCLUm-s: Downloading webpage\n",
      "[youtube] m-2aFCLUm-s: Downloading ios player API JSON\n",
      "[youtube] m-2aFCLUm-s: Downloading web creator player API JSON\n",
      "[youtube] m-2aFCLUm-s: Downloading m3u8 information\n",
      "[info] m-2aFCLUm-s: Downloading 1 format(s): 18\n",
      "[download] Ep 1801 - Flats Ki Renovation ｜ Taarak Mehta Ka Ooltah Chashmah ｜ Full Episode ｜ तारक मेहता [m-2aFCLUm-s].mp4 has already been downloaded\n",
      "[download] 100% of  106.98MiB\n",
      "Download Complete\n"
     ]
    }
   ],
   "source": [
    "from yt_dlp import YoutubeDL\n",
    "\n",
    "download_option = input(\"Do You Want to download this video? (yes/no): \").lower()\n",
    "\n",
    "if download_option == 'yes':\n",
    "    url = 'https://www.youtube.com/watch?v=m-2aFCLUm-s'\n",
    "    ydl_opts = {'format': 'best'}\n",
    "    with YoutubeDL(ydl_opts) as ydl:\n",
    "        print('Downloding...')\n",
    "        ydl.download([url])\n",
    "        print('Download Complete')\n",
    "        \n",
    "else:\n",
    "    print('Download Aborted...')"
   ]
  },
  {
   "cell_type": "code",
   "execution_count": 5,
   "metadata": {},
   "outputs": [
    {
     "data": {
      "text/plain": [
       "'d:\\\\Data Science & AI\\\\Jupyter Notebooks'"
      ]
     },
     "execution_count": 5,
     "metadata": {},
     "output_type": "execute_result"
    }
   ],
   "source": [
    "import os\n",
    "os.getcwd()"
   ]
  },
  {
   "cell_type": "code",
   "execution_count": null,
   "metadata": {},
   "outputs": [],
   "source": []
  }
 ],
 "metadata": {
  "kernelspec": {
   "display_name": "Python 3",
   "language": "python",
   "name": "python3"
  },
  "language_info": {
   "codemirror_mode": {
    "name": "ipython",
    "version": 3
   },
   "file_extension": ".py",
   "mimetype": "text/x-python",
   "name": "python",
   "nbconvert_exporter": "python",
   "pygments_lexer": "ipython3",
   "version": "3.10.7"
  }
 },
 "nbformat": 4,
 "nbformat_minor": 2
}
